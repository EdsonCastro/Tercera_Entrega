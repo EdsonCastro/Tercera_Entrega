{
 "cells": [
  {
   "cell_type": "code",
   "execution_count": 1,
   "metadata": {
    "collapsed": false
   },
   "outputs": [
    {
     "name": "stdout",
     "output_type": "stream",
     "text": [
      "\n",
      "\tIntroduzca la busqueda del tweet que desea realizar: paro\n",
      "\tPalabra a buscar en los tweets:  #paro\n"
     ]
    }
   ],
   "source": [
    "#!/usr/bin/python\n",
    "# -*- coding: utf-8 -*-\n",
    "__author__ = 'Alumno: Edson Castro asignatura Sistemas Distribuidos'\n",
    "\n",
    "from IDtwitter import * #Modulo con los tokens de twitter.\n",
    "import twitter\n",
    "import io\n",
    "import json\n",
    "\n",
    "#LLamando a la funcion en el modulo importado en el cual se genera la autorizacion para realizar la busqueda.\n",
    "twitter_api =  oauth_login()\n",
    "\n",
    "pal= raw_input('\\n\\tIntroduzca la busqueda del tweet que desea realizar: ')\n",
    "q = '#'+ pal\n",
    "print \"\\tPalabra a buscar en los tweets: \",q\n",
    "\n",
    "search_results = twitter_api.search.tweets(q=q, geocode='37.333351,-4.5765007,1000km') #puede expresarse en el rango en mi.\n",
    "statuses = search_results['statuses']\n",
    "\n",
    "#Guardadndo los datos de la busqueda en el fichero.\n",
    "save_json('datosbusqueda', statuses)\n"
   ]
  },
  {
   "cell_type": "code",
   "execution_count": 2,
   "metadata": {
    "collapsed": false
   },
   "outputs": [
    {
     "name": "stdout",
     "output_type": "stream",
     "text": [
      "Lista de coordenadas encontradas\n",
      "\n",
      "[40.4874135, -3.3730446]\n",
      "[40.3478284, -3.7050023]\n",
      "[40.4874238, -3.3730363]\n",
      "[40.487432, -3.3730349]\n",
      "[40.4874271, -3.3730373]\n",
      "[40.4874167, -3.37303]\n",
      "[40.4874175, -3.3730301]\n",
      "[40.4874216, -3.3730316]\n",
      "[40.4874263, -3.3730169]\n",
      "[40.487421, -3.373047]\n",
      "[40.4874183, -3.3730228]\n",
      "[40.4874314, -3.373026]\n",
      "[40.4874255, -3.3730309]\n",
      "[40.4874236, -3.37305]\n"
     ]
    }
   ],
   "source": [
    "#Leyendo los datos en el fichero de la busqueda realizada.\n",
    "statuses = json.loads(open('datosbusqueda.json').read())\n",
    "\n",
    "#Obteniendo las coordenadas de los tweets en los cuales existen posicion del tweet y guardando en orden\n",
    "#inverso, los datos se guardan en una lista para mostrar en los marcadores.\n",
    "print \"Lista de coordenadas encontradas\\n\"\n",
    "lista = []\n",
    "for status in statuses:\n",
    "    if status['coordinates']!= None:        \n",
    "        coord = status['coordinates']        \n",
    "        latlong=[coord.values()[1][1] , coord.values()[1][0]]\n",
    "        lista.append(latlong)\n",
    "        print latlong"
   ]
  },
  {
   "cell_type": "code",
   "execution_count": 3,
   "metadata": {
    "collapsed": false
   },
   "outputs": [
    {
     "name": "stdout",
     "output_type": "stream",
     "text": [
      "Fin de ejecucion\n"
     ]
    }
   ],
   "source": [
    "from flask import Flask, render_template\n",
    "from flask.ext.googlemaps import GoogleMaps\n",
    "from flask.ext.googlemaps import Map\n",
    "\n",
    "app = Flask(__name__)\n",
    "GoogleMaps(app)\n",
    "\n",
    "#Funcion que muestra el mapa señalando con marcadores donde se han realizado los tweets\"\n",
    "@app.route(\"/\")\n",
    "def mapview():\n",
    "    mymap = Map(\n",
    "        identifier=\"view-side\",        \n",
    "        #Coordeandas en el mapa sobre España.\n",
    "        lat=40.2106414,\n",
    "        lng=-4.1370476,\n",
    "        markers=lista,\n",
    "        zoom=6,\n",
    "        style=\"height:500px;width:500px;margin:0\"\n",
    "    )\n",
    "    return render_template('index.html', mymap=mymap)\n",
    "\n",
    "print \"Fin de ejecucion\"\n",
    "if __name__ == \"__main__\":\n",
    "    app.run(debug=False)"
   ]
  },
  {
   "cell_type": "code",
   "execution_count": null,
   "metadata": {
    "collapsed": true
   },
   "outputs": [],
   "source": []
  }
 ],
 "metadata": {
  "kernelspec": {
   "display_name": "Python 2",
   "language": "python",
   "name": "python2"
  },
  "language_info": {
   "codemirror_mode": {
    "name": "ipython",
    "version": 2
   },
   "file_extension": ".py",
   "mimetype": "text/x-python",
   "name": "python",
   "nbconvert_exporter": "python",
   "pygments_lexer": "ipython2",
   "version": "2.7.6"
  }
 },
 "nbformat": 4,
 "nbformat_minor": 0
}
