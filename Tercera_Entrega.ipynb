{
 "cells": [
  {
   "cell_type": "code",
   "execution_count": 1,
   "metadata": {
    "collapsed": false
   },
   "outputs": [
    {
     "name": "stdout",
     "output_type": "stream",
     "text": [
      "\n",
      "\tIntroduzca la busqueda del tweet que desea realizar: amor\n",
      "\tPalabra a buscar en los tweets:  #amor\n"
     ]
    }
   ],
   "source": [
    "#!/usr/bin/python\n",
    "# -*- coding: utf-8 -*-\n",
    "__author__ = 'Alumno: Edson Castro asignatura Sistemas Distribuidos'\n",
    "\n",
    "from IDtwitter import * #Modulo con los tokens de twitter.\n",
    "import twitter\n",
    "import io\n",
    "import json\n",
    "\n",
    "#LLamando a la funcion en el modulo importado en el cual se genera la autorizacion para realizar la busqueda.\n",
    "twitter_api =  oauth_login()\n",
    "\n",
    "pal= raw_input('\\n\\tIntroduzca la busqueda del tweet que desea realizar: ')\n",
    "q = '#'+ pal\n",
    "print \"\\tPalabra a buscar en los tweets: \",q\n",
    "\n",
    "search_results = twitter_api.search.tweets(q=q, geocode='37.333351,-4.5765007,1000km') #puede expresarse en el rango en mi.\n",
    "statuses = search_results['statuses']\n",
    "\n",
    "#Guardadndo los datos de la busqueda en el fichero.\n",
    "save_json('datosbusqueda', statuses)\n"
   ]
  },
  {
   "cell_type": "code",
   "execution_count": 2,
   "metadata": {
    "collapsed": false
   },
   "outputs": [
    {
     "name": "stdout",
     "output_type": "stream",
     "text": [
      "Lista de coordenadas encontradas\n",
      "\n",
      "[37.1154164, -3.5973128]\n",
      "[41.5640462, 1.9991001]\n",
      "[41.14771477, -8.61130047]\n",
      "[36.93967265, -1.93383704]\n",
      "[39.08192207, 1.45186943]\n",
      "[39.15214243, -3.01418771]\n",
      "[43.2503255, -2.9105175]\n",
      "[39.9665362, -4.824426]\n",
      "[37.41006379, -5.98379883]\n",
      "[37.1973797, -4.4540002]\n"
     ]
    }
   ],
   "source": [
    "#Leyendo los datos en el fichero de la busqueda realizada.\n",
    "statuses = json.loads(open('datosbusqueda.json').read())\n",
    "\n",
    "#Obteniendo las coordenadas de los tweets en los cuales existen posicion del tweet y guardando en orden\n",
    "#inverso, los datos se guardan en una lista para mostrar en los marcadores.\n",
    "print \"Lista de coordenadas encontradas\\n\"\n",
    "lista = []\n",
    "for status in statuses:\n",
    "    if status['coordinates']!= None:        \n",
    "        coord = status['coordinates']        \n",
    "        latlong=[coord.values()[1][1] , coord.values()[1][0]]\n",
    "        lista.append(latlong)\n",
    "        print latlong"
   ]
  },
  {
   "cell_type": "code",
   "execution_count": null,
   "metadata": {
    "collapsed": false
   },
   "outputs": [],
   "source": [
    "from flask import Flask, render_template\n",
    "from flask.ext.googlemaps import GoogleMaps\n",
    "from flask.ext.googlemaps import Map\n",
    "\n",
    "app = Flask(__name__)\n",
    "GoogleMaps(app)\n",
    "\n",
    "#Funcion que muestra el mapa señalando con marcadores donde se han realizado los tweets\"\n",
    "@app.route(\"/\")\n",
    "def mapview():\n",
    "    mymap = Map(\n",
    "        identifier=\"view-side\",        \n",
    "        #Coordeandas en el mapa sobre España.\n",
    "        lat=40.2106414,\n",
    "        lng=-4.1370476,\n",
    "        markers=lista,\n",
    "        zoom=6,\n",
    "        style=\"height:500px;width:500px;margin:0\"\n",
    "    )\n",
    "    return render_template('index.html', mymap=mymap)\n",
    "\n",
    "print \"Fin de ejecucion\"\n",
    "if __name__ == \"__main__\":\n",
    "    app.run(debug=False)"
   ]
  },
  {
   "cell_type": "code",
   "execution_count": null,
   "metadata": {
    "collapsed": true
   },
   "outputs": [],
   "source": []
  }
 ],
 "metadata": {
  "kernelspec": {
   "display_name": "Python 2",
   "language": "python",
   "name": "python2"
  },
  "language_info": {
   "codemirror_mode": {
    "name": "ipython",
    "version": 2
   },
   "file_extension": ".py",
   "mimetype": "text/x-python",
   "name": "python",
   "nbconvert_exporter": "python",
   "pygments_lexer": "ipython2",
   "version": "2.7.6"
  }
 },
 "nbformat": 4,
 "nbformat_minor": 0
}
